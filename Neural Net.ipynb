{
 "cells": [
  {
   "cell_type": "code",
   "execution_count": 86,
   "metadata": {
    "collapsed": false
   },
   "outputs": [],
   "source": [
    "import matplotlib.pyplot as plt\n",
    "import numpy as np\n",
    "import sklearn\n",
    "import sklearn.linear_model\n",
    "import matplotlib\n",
    "import pandas as pd\n",
    "#from scipy.special import expit as sigmoid\n",
    "%matplotlib inline"
   ]
  },
  {
   "cell_type": "code",
   "execution_count": 87,
   "metadata": {
    "collapsed": false
   },
   "outputs": [],
   "source": [
    "path = r'C:\\Users\\Nursultan\\Documents\\Data Science\\breast cancer\\wdbc.data.csv'\n",
    "df = pd.read_csv(path, names = ['ID', 'Diagnosis',\n",
    "                    'MRadius', 'MTexture', 'Mper-ter', 'Marea', 'MSmooth-es',\n",
    "                    'MComp-ness', 'MConcavity', 'MConcavPoints', 'MSymm-ry',\n",
    "                    'MFractDimens', 'RadiusSE', 'TextureSE', 'Per-terSE',\n",
    "                    'AreaSE', 'Smooth-esSE',\n",
    "                    'Comp-nessSE', 'ConcavitySE', 'ConcavPointsSE', \n",
    "                    'Symm-rySE', 'FractDimensSE', 'WRadius', 'WTexture',\n",
    "                    'WPer-ter', 'WArea', 'WSmooth-es',\n",
    "                    'WComp-ness', 'WConcavity', 'WConcavPoints', \n",
    "                    'WSymm-ry', 'WFractDimens'])\n"
   ]
  },
  {
   "cell_type": "code",
   "execution_count": 127,
   "metadata": {
    "collapsed": false
   },
   "outputs": [
    {
     "name": "stdout",
     "output_type": "stream",
     "text": [
      "<class 'pandas.core.frame.DataFrame'>\n"
     ]
    }
   ],
   "source": [
    "df['Malignant'] = df.Diagnosis.map({'B':0, 'M':1})\n",
    "df.head()\n"
   ]
  },
  {
   "cell_type": "code",
   "execution_count": 114,
   "metadata": {
    "collapsed": true
   },
   "outputs": [],
   "source": [
    "#df.index=range(0,569,1)"
   ]
  },
  {
   "cell_type": "code",
   "execution_count": 136,
   "metadata": {
    "collapsed": false
   },
   "outputs": [
    {
     "name": "stdout",
     "output_type": "stream",
     "text": [
      "<type 'numpy.ndarray'>\n",
      "<type 'numpy.ndarray'>\n"
     ]
    }
   ],
   "source": [
    "X = df.iloc[:,2:32].values\n",
    "\n",
    "print(type(X))\n",
    "#numpyMatrix = df.as_matrix()\n",
    "\n",
    "y= df.Malignant.values\n",
    "print(type(y))\n",
    "#y.reshape(569,1)\n",
    "\n",
    "\n"
   ]
  },
  {
   "cell_type": "code",
   "execution_count": 143,
   "metadata": {
    "collapsed": false
   },
   "outputs": [
    {
     "name": "stdout",
     "output_type": "stream",
     "text": [
      "569\n"
     ]
    }
   ],
   "source": [
    "num_samples = len(X)\n",
    "print(num_samples)\n",
    "nn_inputs = 30\n",
    "nn_outputs = 2\n",
    "epsilon = 0.01\n",
    "reg_lambda = 0.01"
   ]
  },
  {
   "cell_type": "code",
   "execution_count": 144,
   "metadata": {
    "collapsed": false
   },
   "outputs": [],
   "source": [
    "def calc_error(model):\n",
    "    W1, b1, W2, b2 = model['W1'], model['b1'], model['W2'], model['b2']\n",
    "    \n",
    "    z1 = X.dot(W1) + b1\n",
    "    a1= np.tanh(z1)\n",
    "    z2 = a1.dot(W2) + b2\n",
    "    exp_scores = np.exp(z2)\n",
    "    probs = exp_scores/np.sum(exp_scores, axis=1, keepdims = True)\n",
    "    \n",
    "    #calculating the error\n",
    "    correct_logprobs = - np.log(probs[range(num_samples), y])\n",
    "    error = np.sum(correct_logprobs)\n",
    "    #optional regularization term\n",
    "    error += reg_lambda/2 * (np.sum(np.square(W1)) + np.sum(np.square(W2)))\n",
    "    return 1./num_samples * error"
   ]
  },
  {
   "cell_type": "code",
   "execution_count": 145,
   "metadata": {
    "collapsed": false
   },
   "outputs": [],
   "source": [
    "def feed_forward(model, x):\n",
    "    W1, b1, W2, b2 = model['W1'], model['b1'], model['W2'], model['b2']\n",
    "    #propagate forward\n",
    "    #calc the dot product of input layer and its weights and add 1st bias term\n",
    "    z1 = x.dot(W1) + b1\n",
    "    #apply tanh activation function\n",
    "    a1 = np.tanh(z1)\n",
    "    #calc the dot product of the output of tanh func applied\n",
    "    # to input layer and its weights and add 2nd bias term\n",
    "    z2 = a1.dot(W2) + b2\n",
    "    exp_scores = np.exp(z2)\n",
    "    probs = exp_scores/np.sum(exp_scores, axis=1, keepdims=True)\n",
    "    return np.argmax(prob, axis=1)"
   ]
  },
  {
   "cell_type": "code",
   "execution_count": 149,
   "metadata": {
    "collapsed": false
   },
   "outputs": [],
   "source": [
    "#function to learn the param-s for the NN and return the model\n",
    "# hid_dim - hidden layer dimension - # of nodes in hidden layer\n",
    "# num_passes - num of passes through the training set for gradient descent\n",
    "# print_loss - if true, prints the loss every 1000 iterations\n",
    "def build_model(hid_dim, num_passes = 20000, print_loss=False):\n",
    "    #initialize param-s randomly, we need to learn them\n",
    "    np.random.seed(0)\n",
    "    W1 = np.random.randn(nn_inputs, hid_dim)/ np.sqrt(nn_inputs)\n",
    "    b1 = np.zeros((1, hid_dim))\n",
    "    W2 = np.random.randn(hid_dim,nn_outputs) / np.sqrt(hid_dim)\n",
    "    b2 = np.zeros((1, nn_outputs))\n",
    "    \n",
    "    model = {}\n",
    "    \n",
    "    #Gradient descent\n",
    "    for i in xrange(0, num_passes):\n",
    "        \n",
    "        #feed forward\n",
    "        z1 = X.dot(W1) + b1\n",
    "        a1 = np.tanh(z1)\n",
    "        z2 = a1.dot(W2) + b2\n",
    "        exp_scores = np.exp(z2)\n",
    "        probs = exp_scores / np.sum(exp_scores, axis=1, keepdims=True)\n",
    "        \n",
    "        #Backpropagate\n",
    "        delta3 = probs\n",
    "        delta3[range(num_samples), y] -= 1\n",
    "        dW2 = (a1.T).dot(delta3)\n",
    "        db2 = np.sum(delta3, axis=0, keepdims=True)\n",
    "        delta2 = delta3.dot(W2.T) * (1 - np.power(a1,2))\n",
    "        dW1 = np.dot(X.T, delta2)\n",
    "        db1 = np.sum(delta2, axis =0)\n",
    "        \n",
    "        #add regularization terms (b1 and b2 aren't regularized)\n",
    "        dW2 += reg_lambda * W2\n",
    "        dW1 += reg_lambda * W1\n",
    "        \n",
    "        #Gradient descent parameter update\n",
    "        W1 += -epsilon * dW1\n",
    "        b1 += -epsilon * db1\n",
    "        W2 += -epsilon * dW2\n",
    "        b2 += -epsilon * db2\n",
    "        \n",
    "        model = {'W1': W1, 'b1': b1, 'W2': W2, 'b2': b2}\n",
    "        \n",
    "        #optionally print the loss\n",
    "        if print_loss and i % 1000 == 0:\n",
    "            print \"Loss after iteration %i: %f\" %(i, calc_error(model))\n",
    "    return model"
   ]
  },
  {
   "cell_type": "code",
   "execution_count": 154,
   "metadata": {
    "collapsed": false
   },
   "outputs": [
    {
     "name": "stdout",
     "output_type": "stream",
     "text": [
      "Loss after iteration 0: 7.164825\n",
      "Loss after iteration 1000: 0.903176\n",
      "Loss after iteration 2000: 7.380545\n",
      "Loss after iteration 3000: 2.785516\n",
      "Loss after iteration 4000: 6.579739\n",
      "Loss after iteration 5000: 0.670587\n",
      "Loss after iteration 6000: 2.143586\n",
      "Loss after iteration 7000: 6.741454\n",
      "Loss after iteration 8000: 5.918293\n",
      "Loss after iteration 9000: 7.922760\n",
      "Loss after iteration 10000: 1.984033\n",
      "Loss after iteration 11000: 0.813405\n",
      "Loss after iteration 12000: 6.771853\n",
      "Loss after iteration 13000: 6.903645\n",
      "Loss after iteration 14000: 4.432796\n",
      "Loss after iteration 15000: 7.566420\n",
      "Loss after iteration 16000: 7.270446\n",
      "Loss after iteration 17000: 6.384040\n",
      "Loss after iteration 18000: 6.606671\n",
      "Loss after iteration 19000: 0.662119\n"
     ]
    }
   ],
   "source": [
    "# Build a model with a 10-dim hidden layer\n",
    "model = build_model(3, print_loss=True)"
   ]
  },
  {
   "cell_type": "code",
   "execution_count": null,
   "metadata": {
    "collapsed": true
   },
   "outputs": [],
   "source": []
  },
  {
   "cell_type": "code",
   "execution_count": null,
   "metadata": {
    "collapsed": true
   },
   "outputs": [],
   "source": []
  }
 ],
 "metadata": {
  "anaconda-cloud": {},
  "kernelspec": {
   "display_name": "Python [Root]",
   "language": "python",
   "name": "Python [Root]"
  },
  "language_info": {
   "codemirror_mode": {
    "name": "ipython",
    "version": 2
   },
   "file_extension": ".py",
   "mimetype": "text/x-python",
   "name": "python",
   "nbconvert_exporter": "python",
   "pygments_lexer": "ipython2",
   "version": "2.7.12"
  }
 },
 "nbformat": 4,
 "nbformat_minor": 0
}
